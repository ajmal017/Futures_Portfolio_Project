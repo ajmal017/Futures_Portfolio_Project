{
 "cells": [
  {
   "cell_type": "code",
   "execution_count": 3,
   "metadata": {
    "collapsed": true
   },
   "outputs": [],
   "source": [
    "import numpy as np\n",
    "import pandas as pd\n",
    "\n",
    "#Data utils\n",
    "import quandl\n",
    "import sqlite3\n",
    "from sqlite3 import Error\n",
    "\n",
    "#import datetime as dt\n",
    "\n",
    "# Our Module\n",
    "import futsqlite\n",
    "\n",
    "#plotting\n",
    "from matplotlib import pyplot as plt\n",
    "%matplotlib inline\n",
    "plt.style.use('ggplot')\n",
    "\n",
    "quandl.ApiConfig.api_key = \"_srX4KQ6xix5aBeij-72\""
   ]
  },
  {
   "cell_type": "code",
   "execution_count": 4,
   "metadata": {
    "collapsed": true
   },
   "outputs": [],
   "source": [
    "#Create SQLite database called 'futures_data.db' in working directory\n",
    "database = 'futures_data.db'\n",
    "futsqlite.create_db(database)"
   ]
  },
  {
   "cell_type": "code",
   "execution_count": 6,
   "metadata": {},
   "outputs": [
    {
     "data": {
      "text/html": [
       "<div>\n",
       "<style>\n",
       "    .dataframe thead tr:only-child th {\n",
       "        text-align: right;\n",
       "    }\n",
       "\n",
       "    .dataframe thead th {\n",
       "        text-align: left;\n",
       "    }\n",
       "\n",
       "    .dataframe tbody tr th {\n",
       "        vertical-align: top;\n",
       "    }\n",
       "</style>\n",
       "<table border=\"1\" class=\"dataframe\">\n",
       "  <thead>\n",
       "    <tr style=\"text-align: right;\">\n",
       "      <th></th>\n",
       "      <th>Exchange</th>\n",
       "      <th>Sym</th>\n",
       "      <th>Months</th>\n",
       "      <th>Start</th>\n",
       "      <th>End</th>\n",
       "      <th>BPV</th>\n",
       "      <th>Price_scale</th>\n",
       "      <th>Currency</th>\n",
       "      <th>Sector</th>\n",
       "    </tr>\n",
       "  </thead>\n",
       "  <tbody>\n",
       "    <tr>\n",
       "      <th>0</th>\n",
       "      <td>CME</td>\n",
       "      <td>C</td>\n",
       "      <td>HKNUZ</td>\n",
       "      <td>1960</td>\n",
       "      <td>2018</td>\n",
       "      <td>50.0</td>\n",
       "      <td>0.125</td>\n",
       "      <td>USD</td>\n",
       "      <td>grains</td>\n",
       "    </tr>\n",
       "    <tr>\n",
       "      <th>1</th>\n",
       "      <td>CME</td>\n",
       "      <td>S</td>\n",
       "      <td>FHKNQUX</td>\n",
       "      <td>1970</td>\n",
       "      <td>2018</td>\n",
       "      <td>50.0</td>\n",
       "      <td>0.125</td>\n",
       "      <td>USD</td>\n",
       "      <td>grains</td>\n",
       "    </tr>\n",
       "    <tr>\n",
       "      <th>2</th>\n",
       "      <td>CME</td>\n",
       "      <td>W</td>\n",
       "      <td>HKNUZ</td>\n",
       "      <td>1960</td>\n",
       "      <td>2018</td>\n",
       "      <td>50.0</td>\n",
       "      <td>0.125</td>\n",
       "      <td>USD</td>\n",
       "      <td>grains</td>\n",
       "    </tr>\n",
       "    <tr>\n",
       "      <th>3</th>\n",
       "      <td>CME</td>\n",
       "      <td>BO</td>\n",
       "      <td>FHKNQUVZ</td>\n",
       "      <td>1961</td>\n",
       "      <td>2018</td>\n",
       "      <td>600.0</td>\n",
       "      <td>0.010</td>\n",
       "      <td>USD</td>\n",
       "      <td>grains</td>\n",
       "    </tr>\n",
       "    <tr>\n",
       "      <th>4</th>\n",
       "      <td>CME</td>\n",
       "      <td>SM</td>\n",
       "      <td>FHKNQUVZ</td>\n",
       "      <td>1964</td>\n",
       "      <td>2018</td>\n",
       "      <td>100.0</td>\n",
       "      <td>0.100</td>\n",
       "      <td>USD</td>\n",
       "      <td>grains</td>\n",
       "    </tr>\n",
       "  </tbody>\n",
       "</table>\n",
       "</div>"
      ],
      "text/plain": [
       "  Exchange Sym    Months  Start   End    BPV  Price_scale Currency  Sector\n",
       "0      CME   C     HKNUZ   1960  2018   50.0        0.125      USD  grains\n",
       "1      CME   S   FHKNQUX   1970  2018   50.0        0.125      USD  grains\n",
       "2      CME   W     HKNUZ   1960  2018   50.0        0.125      USD  grains\n",
       "3      CME  BO  FHKNQUVZ   1961  2018  600.0        0.010      USD  grains\n",
       "4      CME  SM  FHKNQUVZ   1964  2018  100.0        0.100      USD  grains"
      ]
     },
     "execution_count": 6,
     "metadata": {},
     "output_type": "execute_result"
    }
   ],
   "source": [
    "#read usd_markets_dict (CME dollar denominated markets only with their specifications)\n",
    "usd_markets = pd.read_csv('usd_markets_dict.csv')\n",
    "usd_markets.head()"
   ]
  },
  {
   "cell_type": "code",
   "execution_count": 7,
   "metadata": {},
   "outputs": [
    {
     "data": {
      "text/html": [
       "<div>\n",
       "<style>\n",
       "    .dataframe thead tr:only-child th {\n",
       "        text-align: right;\n",
       "    }\n",
       "\n",
       "    .dataframe thead th {\n",
       "        text-align: left;\n",
       "    }\n",
       "\n",
       "    .dataframe tbody tr th {\n",
       "        vertical-align: top;\n",
       "    }\n",
       "</style>\n",
       "<table border=\"1\" class=\"dataframe\">\n",
       "  <thead>\n",
       "    <tr style=\"text-align: right;\">\n",
       "      <th></th>\n",
       "      <th>Exchange</th>\n",
       "      <th>Sym</th>\n",
       "      <th>Months</th>\n",
       "      <th>Start</th>\n",
       "      <th>End</th>\n",
       "      <th>BPV</th>\n",
       "      <th>Price_scale</th>\n",
       "      <th>Currency</th>\n",
       "      <th>Sector</th>\n",
       "    </tr>\n",
       "  </thead>\n",
       "  <tbody>\n",
       "    <tr>\n",
       "      <th>0</th>\n",
       "      <td>CME/</td>\n",
       "      <td>C</td>\n",
       "      <td>HKNUZ</td>\n",
       "      <td>1960</td>\n",
       "      <td>2018</td>\n",
       "      <td>50.0</td>\n",
       "      <td>0.125</td>\n",
       "      <td>USD</td>\n",
       "      <td>grains</td>\n",
       "    </tr>\n",
       "    <tr>\n",
       "      <th>1</th>\n",
       "      <td>CME/</td>\n",
       "      <td>S</td>\n",
       "      <td>FHKNQUX</td>\n",
       "      <td>1970</td>\n",
       "      <td>2018</td>\n",
       "      <td>50.0</td>\n",
       "      <td>0.125</td>\n",
       "      <td>USD</td>\n",
       "      <td>grains</td>\n",
       "    </tr>\n",
       "    <tr>\n",
       "      <th>2</th>\n",
       "      <td>CME/</td>\n",
       "      <td>W</td>\n",
       "      <td>HKNUZ</td>\n",
       "      <td>1960</td>\n",
       "      <td>2018</td>\n",
       "      <td>50.0</td>\n",
       "      <td>0.125</td>\n",
       "      <td>USD</td>\n",
       "      <td>grains</td>\n",
       "    </tr>\n",
       "    <tr>\n",
       "      <th>3</th>\n",
       "      <td>CME/</td>\n",
       "      <td>BO</td>\n",
       "      <td>FHKNQUVZ</td>\n",
       "      <td>1961</td>\n",
       "      <td>2018</td>\n",
       "      <td>600.0</td>\n",
       "      <td>0.010</td>\n",
       "      <td>USD</td>\n",
       "      <td>grains</td>\n",
       "    </tr>\n",
       "    <tr>\n",
       "      <th>4</th>\n",
       "      <td>CME/</td>\n",
       "      <td>SM</td>\n",
       "      <td>FHKNQUVZ</td>\n",
       "      <td>1964</td>\n",
       "      <td>2018</td>\n",
       "      <td>100.0</td>\n",
       "      <td>0.100</td>\n",
       "      <td>USD</td>\n",
       "      <td>grains</td>\n",
       "    </tr>\n",
       "  </tbody>\n",
       "</table>\n",
       "</div>"
      ],
      "text/plain": [
       "  Exchange Sym    Months  Start   End    BPV  Price_scale Currency  Sector\n",
       "0     CME/   C     HKNUZ   1960  2018   50.0        0.125      USD  grains\n",
       "1     CME/   S   FHKNQUX   1970  2018   50.0        0.125      USD  grains\n",
       "2     CME/   W     HKNUZ   1960  2018   50.0        0.125      USD  grains\n",
       "3     CME/  BO  FHKNQUVZ   1961  2018  600.0        0.010      USD  grains\n",
       "4     CME/  SM  FHKNQUVZ   1964  2018  100.0        0.100      USD  grains"
      ]
     },
     "execution_count": 7,
     "metadata": {},
     "output_type": "execute_result"
    }
   ],
   "source": [
    "#Add slash since that's how symbols are stored in Quandl\n",
    "usd_markets['Exchange'] = [item + '/' for item in usd_markets['Exchange']]\n",
    "usd_markets.head()"
   ]
  },
  {
   "cell_type": "code",
   "execution_count": 8,
   "metadata": {
    "collapsed": true
   },
   "outputs": [],
   "source": [
    "#Segment markets into sectors\n",
    "grains = usd_markets[usd_markets['Sector'] == 'grains']\n",
    "meats = usd_markets[usd_markets['Sector'] == 'meats']\n",
    "energies = usd_markets[usd_markets['Sector'] == 'energies']\n",
    "metals = usd_markets[usd_markets['Sector'] == 'metals']\n",
    "equities = usd_markets[usd_markets['Sector'] == 'equities']\n",
    "rates = usd_markets[usd_markets['Sector'] == 'rates']\n",
    "fx = usd_markets[usd_markets['Sector'] == 'fx']"
   ]
  },
  {
   "cell_type": "code",
   "execution_count": 12,
   "metadata": {},
   "outputs": [],
   "source": [
    "def populate_db(df_markets, database):\n",
    "    \"\"\"\n",
    "        1.Iterate over each market\n",
    "        2.Construct symbol_list\n",
    "        3.Check if symbol is in DB\n",
    "        4.Call fetch_quandl_data function\n",
    "    \"\"\"\n",
    "    for row in df_markets.itertuples():\n",
    "        exch = row[1]\n",
    "        sym = row[2]\n",
    "        \n",
    "        print(\"Processing {} \".format(sym))\n",
    "        \n",
    "        months = row[3]\n",
    "        start = row[4]\n",
    "        end = row[5]\n",
    "        bpv = row[6]\n",
    "        price_scale = row[7]\n",
    "        currency = row[8]\n",
    "        sector = row[9]\n",
    "\n",
    "        symbol_list = futsqlite.construct_contract_list(exch,sym,start,end,months)\n",
    "        new_symbols = futsqlite.contracts_not_in_db(symbol_list,database)\n",
    "        futsqlite.fetch_quandl_data(new_symbols,sector,currency,bpv,price_scale,database)\n",
    "        "
   ]
  },
  {
   "cell_type": "code",
   "execution_count": 13,
   "metadata": {},
   "outputs": [],
   "source": [
    "#Test with 1 sector\n",
    "#Each sector takes a few minutes\n",
    "#Some, like energies, have almost 1mil records and take longer\n",
    "populate_db(equities, database)"
   ]
  },
  {
   "cell_type": "code",
   "execution_count": 14,
   "metadata": {},
   "outputs": [],
   "source": [
    "#Only update after 4pm CST, that's when exchanges post new settlement prices\n",
    "futsqlite.update_db(5,database)"
   ]
  },
  {
   "cell_type": "code",
   "execution_count": 15,
   "metadata": {
    "collapsed": true
   },
   "outputs": [],
   "source": [
    "# A function for splicing together contracts into a continous price series\n",
    "# Difference adjustment method is applied at each roll date\n",
    "def constr_backadj_prices(sym_list,db):\n",
    "    \n",
    "    #Connect to db and filter all rows in fut_prices table that match a symbol in sym_list\n",
    "    conn = sqlite3.connect(db)\n",
    "    cur = conn.cursor()\n",
    "    placeholder= '?' \n",
    "    placeholders= ', '.join(placeholder for unused in sym_list)\n",
    "    q = 'SELECT symbol, trade_date, exp_date, settle, vol, oi FROM fut_prices WHERE symbol IN (%s)' % placeholders \n",
    "    cur.execute(q,sym_list)\n",
    "    rows = cur.fetchall()\n",
    "    \n",
    "    #convert list into dataframe\n",
    "    cols = ['Sym','Date', 'Exp.Date', 'Settle','Vol','OI']\n",
    "    df = pd.DataFrame(np.array(rows).reshape(len(rows),6), columns=cols)\n",
    "    \n",
    "    #fix data types\n",
    "    df['Date'] = pd.to_datetime(df['Date'])\n",
    "    df['Exp.Date'] = pd.to_datetime(df['Exp.Date'])\n",
    "    df['Settle'] = pd.to_numeric(df['Settle'])\n",
    "    df['Vol'] = pd.to_numeric(df['Vol'])\n",
    "    df['OI'] = pd.to_numeric(df['OI'])\n",
    "    \n",
    "    #For each date, filter contracts with highest open interest and 2nd highest open interest\n",
    "    front = df.sort_values(['OI'], ascending=False).groupby('Date').nth(0)\n",
    "    back = df.sort_values(['OI'],ascending=False).groupby('Date').nth(1)\n",
    "    \n",
    "    #Join 'front' month and 'back' month and sort on date\n",
    "    combined = front.merge(back, how='left',left_index=True,right_index=True)\n",
    "    combined.sort_index(ascending=False,inplace=True)\n",
    "    \n",
    "    #Calclulate price gap between adjacent contract months on the date highest Open Interest switched\n",
    "    #Add up all the price gaps and adjust contracts starting with most recent all the way back to start of price history\n",
    "    combined['Roll_date'] = combined['Sym_x'] != combined['Sym_x'].shift(-1)\n",
    "    combined['Gap'] = np.where(combined['Roll_date'].shift(1) == True, combined['Settle_x'] - combined['Settle_y'],0)\n",
    "    combined['Adj_factor'] = combined['Gap'].cumsum()\n",
    "    combined['Continuous_Price'] = combined['Settle_x'] - combined['Adj_factor']\n",
    "    \n",
    "    return combined['Continuous_Price']"
   ]
  },
  {
   "cell_type": "code",
   "execution_count": 16,
   "metadata": {
    "collapsed": true
   },
   "outputs": [],
   "source": [
    "#Go through all markets on our list and apply back adjustment function\n",
    "def process_markets(df_markets,database):\n",
    "    #Store each price series in a dictionary\n",
    "    prices = {}\n",
    "    for row in df_markets.itertuples():\n",
    "        exch = row[1]\n",
    "        sym = row[2]\n",
    "        print(\"Processing {} \".format(sym))\n",
    "        months = row[3]\n",
    "        start = row[4]\n",
    "        end = row[5]\n",
    "        bpv = row[6]\n",
    "        price_scale = row[7]\n",
    "        currency = row[8]\n",
    "        sector = row[9]\n",
    "        \n",
    "        #construct symbol list, pass it to backadj_prices function, then add to prices dict\n",
    "        symbol_list = futsqlite.construct_contract_list(exch,sym,start,end,months)\n",
    "        cont_prices = constr_backadj_prices(symbol_list,database)\n",
    "        prices[sym] = cont_prices\n",
    "    \n",
    "    return prices"
   ]
  },
  {
   "cell_type": "code",
   "execution_count": 17,
   "metadata": {},
   "outputs": [
    {
     "name": "stdout",
     "output_type": "stream",
     "text": [
      "Processing SP \n",
      "Processing ES \n",
      "Processing NQ \n",
      "Processing YM \n",
      "Processing NK \n"
     ]
    }
   ],
   "source": [
    "#test on equities sector again\n",
    "cont_prices = process_markets(equities,database)"
   ]
  },
  {
   "cell_type": "code",
   "execution_count": 19,
   "metadata": {},
   "outputs": [
    {
     "data": {
      "image/png": "[encoded data removed]",
      "text/plain": [
       "<matplotlib.figure.Figure at 0x1a8bbc18>"
      ]
     },
     "metadata": {},
     "output_type": "display_data"
    }
   ],
   "source": [
    "#Plot S&P 500 E-Mini futures series\n",
    "cont_prices['ES'].plot(figsize=(12,8));"
   ]
  },
  {
   "cell_type": "code",
   "execution_count": null,
   "metadata": {
    "collapsed": true
   },
   "outputs": [],
   "source": []
  }
 ],
 "metadata": {
  "kernelspec": {
   "display_name": "Python 3",
   "language": "python",
   "name": "python3"
  },
  "language_info": {
   "codemirror_mode": {
    "name": "ipython",
    "version": 3
   },
   "file_extension": ".py",
   "mimetype": "text/x-python",
   "name": "python",
   "nbconvert_exporter": "python",
   "pygments_lexer": "ipython3",
   "version": "3.6.3"
  }
 },
 "nbformat": 4,
 "nbformat_minor": 2
}
